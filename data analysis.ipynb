{
 "cells": [
  {
   "cell_type": "code",
   "execution_count": 1,
   "metadata": {},
   "outputs": [
    {
     "name": "stdout",
     "output_type": "stream",
     "text": [
      "[1400, 1600, 1700, 1875, 1100, 1550, 2350, 2450, 1425, 1700]\n",
      "[[1400]\n",
      " [1600]\n",
      " [1700]\n",
      " [1875]\n",
      " [1100]\n",
      " [1550]\n",
      " [2350]\n",
      " [2450]\n",
      " [1425]\n",
      " [1700]]\n"
     ]
    }
   ],
   "source": [
    "#importing Numpy, Matplotlib and sklearn libraries\n",
    "import matplotlib.pyplot as plt\n",
    "import numpy as np\n",
    "# importing datasets from scikit-learn\n",
    "from sklearn import datasets, linear_model\n",
    "#Load the dataset\n",
    "house_price = [245, 312, 279, 308, 199, 219, 405, 324, 319, 255]\n",
    "size = [1400, 1600, 1700, 1875, 1100, 1550, 2350, 2450, 1425, 1700]\n",
    "print(size)\n",
    "# Reshape the input to your regression\n",
    "size2 = np.array(size).reshape((-1,1))\n",
    "print(size2)"
   ]
  },
  {
   "cell_type": "code",
   "execution_count": 2,
   "metadata": {},
   "outputs": [
    {
     "name": "stdout",
     "output_type": "stream",
     "text": [
      "Coefficients: \n",
      " [0.10976774]\n",
      "intercept: \n",
      " 98.24832962138092\n"
     ]
    }
   ],
   "source": [
    "# By using fit module in linear regression, user can fit the data frequently and quickly\n",
    "regr = linear_model.LinearRegression()\n",
    "regr.fit(size2, house_price)\n",
    "print(\"Coefficients: \\n\" ,regr.coef_)\n",
    "print(\"intercept: \\n\", regr.intercept_)"
   ]
  },
  {
   "cell_type": "code",
   "execution_count": 3,
   "metadata": {},
   "outputs": [
    {
     "name": "stdout",
     "output_type": "stream",
     "text": [
      "[251.92316258]\n",
      "[251.92316258]\n"
     ]
    }
   ],
   "source": [
    "size_new = 1400\n",
    "price = (size_new * regr.coef_) + regr.intercept_\n",
    "print(price)\n",
    "print(regr.predict([[size_new]]))"
   ]
  },
  {
   "cell_type": "code",
   "execution_count": 23,
   "metadata": {},
   "outputs": [
    {
     "data": {
      "image/png": "[encoded data removed]",
      "text/plain": [
       "<Figure size 432x288 with 1 Axes>"
      ]
     },
     "metadata": {},
     "output_type": "display_data"
    }
   ],
   "source": [
    "# Formula obtained for the trained model\n",
    "def graph(formula, x_range):\n",
    "    x = np.array(x_range)\n",
    "    y = eval(formula)\n",
    "    plt.plot(x,y)\n",
    "#Plotting the prediction line\n",
    "graph('regr.coef_*x+regr.intercept_',range(1000,2700))\n",
    "plt.scatter(size,house_price, color='black')\n",
    "plt.ylabel('house price')\n",
    "plt.xlabel('size of house')\n",
    "plt.show()"
   ]
  },
  {
   "cell_type": "code",
   "execution_count": 12,
   "metadata": {},
   "outputs": [],
   "source": [
    "import numpy as np\n",
    "import matplotlib.pyplot as plt\n",
    "from matplotlib import style\n",
    "style.use(\"ggplot\")\n",
    "from sklearn.cluster import KMeans"
   ]
  },
  {
   "cell_type": "code",
   "execution_count": 17,
   "metadata": {},
   "outputs": [
    {
     "data": {
      "image/png": "[encoded data removed]",
      "text/plain": [
       "<Figure size 432x288 with 1 Axes>"
      ]
     },
     "metadata": {},
     "output_type": "display_data"
    }
   ],
   "source": [
    "#Plotting and visualizing our data before feeding it into the Machine Learning Algorithm\n",
    "x=[1, 5, 1.5, 8, 1, 9] \n",
    "y=[2, 8, 1.8, 8, 0.6, 11]\n",
    "plt.scatter(x,y)\n",
    "plt.show()"
   ]
  },
  {
   "cell_type": "code",
   "execution_count": 22,
   "metadata": {},
   "outputs": [
    {
     "name": "stdout",
     "output_type": "stream",
     "text": [
      "[[7.33333333 9.        ]\n",
      " [1.16666667 1.46666667]]\n",
      "[1 0 1 0 1 0]\n"
     ]
    }
   ],
   "source": [
    "# converting our data to a numpy array\n",
    "X = np.array([[1,2],[5,8],[1.5,1.8],[8,8],[1,0.6],[9,11]])\n",
    "# we initialize K-means algorithm with the required partner and we use .fit() to fit the data\n",
    "kmeans = KMeans(n_clusters=2)\n",
    "kmeans.fit(X)\n",
    "# getting the values of centroids and lables based on the fitment\n",
    "centroids = kmeans.cluster_centers_\n",
    "labels=kmeans.labels_\n",
    "print(centroids)\n",
    "print(labels)"
   ]
  },
  {
   "cell_type": "code",
   "execution_count": 35,
   "metadata": {},
   "outputs": [
    {
     "name": "stdout",
     "output_type": "stream",
     "text": [
      "coordinate: [1. 2.] label: 1\n",
      "coordinate: [5. 8.] label: 0\n",
      "coordinate: [1.5 1.8] label: 1\n",
      "coordinate: [8. 8.] label: 0\n",
      "coordinate: [1.  0.6] label: 1\n",
      "coordinate: [ 9. 11.] label: 0\n"
     ]
    },
    {
     "data": {
      "image/png": "[encoded data removed]",
      "text/plain": [
       "<Figure size 432x288 with 1 Axes>"
      ]
     },
     "metadata": {},
     "output_type": "display_data"
    }
   ],
   "source": [
    "# plotting and visualizing output\n",
    "colors = [\"g.\",\"r.\",\"c.\",\"y.\"]\n",
    "for i in range(len(X)):\n",
    "    print (\"coordinate:\",X[i], \"label:\", labels[i])\n",
    "    plt.plot(X[i][0], X[i][1], colors[labels[i]], markersize=10)\n",
    "plt.scatter(centroids[:,0],centroids[:,1], marker = \"x\", s=150, linewidths=5, zorder=10)\n",
    "plt.show()"
   ]
  },
  {
   "cell_type": "code",
   "execution_count": null,
   "metadata": {},
   "outputs": [],
   "source": []
  },
  {
   "cell_type": "code",
   "execution_count": null,
   "metadata": {},
   "outputs": [],
   "source": []
  }
 ],
 "metadata": {
  "kernelspec": {
   "display_name": "Python 3",
   "language": "python",
   "name": "python3"
  },
  "language_info": {
   "codemirror_mode": {
    "name": "ipython",
    "version": 3
   },
   "file_extension": ".py",
   "mimetype": "text/x-python",
   "name": "python",
   "nbconvert_exporter": "python",
   "pygments_lexer": "ipython3",
   "version": "3.7.0"
  }
 },
 "nbformat": 4,
 "nbformat_minor": 2
}
